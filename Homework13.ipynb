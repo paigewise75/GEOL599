{
 "cells": [
  {
   "cell_type": "code",
   "execution_count": 18,
   "metadata": {},
   "outputs": [
    {
     "name": "stderr",
     "output_type": "stream",
     "text": [
      "/var/folders/bm/1zbxfdz545vb2vms38bdffv80000gn/T/ipykernel_84705/2497530378.py:8: FutureWarning: The 'delim_whitespace' keyword in pd.read_csv is deprecated and will be removed in a future version. Use ``sep='\\s+'`` instead\n",
      "  file = pd.DataFrame(pd.read_csv(filename, delim_whitespace=True))\n"
     ]
    }
   ],
   "source": [
    "import numpy as np\n",
    "import sklearn as sk\n",
    "import matplotlib.pyplot as plt\n",
    "import pandas as pd\n",
    "\n",
    "\n",
    "filename = \"Waves_2023.txt\"\n",
    "file = pd.DataFrame(pd.read_csv(filename, delim_whitespace=True))\n",
    "\n",
    "df = file[['WVHT', 'APD', 'DPD', 'MWD', 'WTMP']].replace([9999.0,999.0, 99.0, 'NA'], np.nan).dropna()\n",
    "df.shape\n",
    "X = np.column_stack((df['APD'],df['DPD'],df['MWD'],df['WTMP']))\n",
    "y = df['WVHT'].to_numpy()"
   ]
  },
  {
   "cell_type": "code",
   "execution_count": 19,
   "metadata": {},
   "outputs": [
    {
     "name": "stdout",
     "output_type": "stream",
     "text": [
      "MLP MSE: 0.16492317154126626\n",
      "Baseline MSE: 0.18773177187893833\n"
     ]
    }
   ],
   "source": [
    "from sklearn.neural_network import MLPRegressor\n",
    "from sklearn.model_selection import train_test_split\n",
    "from sklearn.metrics import mean_squared_error\n",
    "from sklearn.linear_model import LinearRegression\n",
    "\n",
    "X_train, X_test, y_train, y_test = train_test_split(X, y, test_size=0.20)\n",
    "\n",
    "mlp_model = MLPRegressor(hidden_layer_sizes=(16, 16, 16),activation='logistic')\n",
    "mlp_model.fit(X_train, y_train)\n",
    "mlp_y_pred = mlp_model.predict(X_test)\n",
    "mlp_mse = mean_squared_error(y_test, mlp_y_pred)\n",
    "print('MLP MSE:', mlp_mse)\n",
    "\n",
    "baseline_model = LinearRegression()\n",
    "baseline_model.fit(X_train, y_train)\n",
    "baseline_y_pred = baseline_model.predict(X_test)\n",
    "baseline_mse = mean_squared_error(y_test, baseline_y_pred)\n",
    "print('Baseline MSE:', baseline_mse)\n"
   ]
  },
  {
   "cell_type": "code",
   "execution_count": 20,
   "metadata": {},
   "outputs": [],
   "source": [
    "# 1. The Baseline model is better than the MLP model\n",
    "# 2. The cost fucntion of the MLP model is the mean squared error"
   ]
  },
  {
   "cell_type": "code",
   "execution_count": 21,
   "metadata": {},
   "outputs": [
    {
     "name": "stdout",
     "output_type": "stream",
     "text": [
      "Layers\tNodes\tTrain Error\tTest Error\n",
      "1\t1\t0.2990\t\t0.2817\n",
      "1\t16\t0.2058\t\t0.1968\n",
      "2\t[1, 16]\t0.2817\t\t0.2601\n",
      "2\t[16, 16]\t0.2000\t\t0.1920\n",
      "3\t[16, 4, 16]\t0.2439\t\t0.2274\n",
      "3\t[16, 16, 16]\t0.2180\t\t0.2109\n",
      "4\t[16, 16, 16, 16]\t0.1787\t\t0.1756\n",
      "4\t[16, 32, 64, 128]\t0.1865\t\t0.1797\n",
      "5\t[1, 1, 1, 1, 1]\t0.2817\t\t0.2600\n",
      "5\t[100, 100, 100, 100, 10]\t0.1789\t\t0.1760\n"
     ]
    }
   ],
   "source": [
    "layers = [1, 1, 2, 2, 3, 3, 4, 4, 5, 5]\n",
    "nodes = [1, 16, [1, 16], [16, 16], [16, 4, 16], [16, 16, 16], [16, 16, 16, 16], [16, 32, 64, 128], [1, 1, 1, 1, 1], [100, 100, 100, 100, 10]]\n",
    "train_errors = []\n",
    "test_errors = []\n",
    "\n",
    "for layer, node in zip(layers, nodes):\n",
    "    mlp_model = MLPRegressor(hidden_layer_sizes=node)\n",
    "    mlp_model.fit(X_train, y_train)\n",
    "    mlp_train_pred = mlp_model.predict(X_train)\n",
    "    mlp_test_pred = mlp_model.predict(X_test)\n",
    "    train_error = mean_squared_error(y_train, mlp_train_pred)\n",
    "    test_error = mean_squared_error(y_test, mlp_test_pred)\n",
    "    train_errors.append(train_error)\n",
    "    test_errors.append(test_error)\n",
    "\n",
    "print(\"Layers\\tNodes\\tTrain Error\\tTest Error\")\n",
    "for layer, node, train_error, test_error in zip(layers, nodes, train_errors, test_errors):\n",
    "    print(f\"{layer}\\t{node}\\t{train_error:.4f}\\t\\t{test_error:.4f}\")\n",
    "\n"
   ]
  },
  {
   "cell_type": "code",
   "execution_count": 22,
   "metadata": {},
   "outputs": [],
   "source": [
    "# 4. The best model is the one with 4 layers and 16 nodes in each layer. Having layers with only 1 node in each layers make the worst models. The best model is more layers and more nodes in each layer.\n",
    "\n",
    "# 5. After using a 'logistic' activation function, the best model is the model with 4 layers and varying # of nodes. The baseline is still better than the best model."
   ]
  }
 ],
 "metadata": {
  "kernelspec": {
   "display_name": "Python 3",
   "language": "python",
   "name": "python3"
  },
  "language_info": {
   "codemirror_mode": {
    "name": "ipython",
    "version": 3
   },
   "file_extension": ".py",
   "mimetype": "text/x-python",
   "name": "python",
   "nbconvert_exporter": "python",
   "pygments_lexer": "ipython3",
   "version": "3.12.2"
  }
 },
 "nbformat": 4,
 "nbformat_minor": 2
}
