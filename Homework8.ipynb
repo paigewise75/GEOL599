{
 "cells": [
  {
   "cell_type": "code",
   "execution_count": 9,
   "metadata": {},
   "outputs": [],
   "source": [
    "import pandas as pd\n",
    "import numpy as np\n",
    "import sklearn as sk\n",
    "from matplotlib import pyplot as plt\n",
    "import seaborn as sns\n",
    "from sklearn import linear_model\n",
    "from sklearn.linear_model import RidgeClassifier"
   ]
  },
  {
   "cell_type": "code",
   "execution_count": 10,
   "metadata": {},
   "outputs": [
    {
     "name": "stderr",
     "output_type": "stream",
     "text": [
      "/var/folders/bm/1zbxfdz545vb2vms38bdffv80000gn/T/ipykernel_88253/981794688.py:3: FutureWarning: The 'delim_whitespace' keyword in pd.read_csv is deprecated and will be removed in a future version. Use ``sep='\\s+'`` instead\n",
      "  file = pd.DataFrame(pd.read_csv(filename, delim_whitespace=True))\n"
     ]
    }
   ],
   "source": [
    "# Read in Data \n",
    "filename = \"Waves_2023.txt\"\n",
    "file = pd.DataFrame(pd.read_csv(filename, delim_whitespace=True))\n",
    "df = (file[['WVHT','APD','DPD','MWD','WTMP']].copy()).dropna()\n",
    "\n",
    "X = np.column_stack((df['APD'],df['DPD'],df['MWD'],df['WTMP']))\n",
    "y = df['WVHT'].to_numpy()\n"
   ]
  },
  {
   "cell_type": "code",
   "execution_count": 11,
   "metadata": {},
   "outputs": [],
   "source": [
    "# Split \n",
    "from sklearn.model_selection import train_test_split\n",
    "X_train, X_test, y_train, y_test = train_test_split(X, y, test_size=0.20)\n",
    "X_train, X_val, y_train, y_val = train_test_split(X_train, y_train, test_size=0.25)"
   ]
  },
  {
   "cell_type": "code",
   "execution_count": 12,
   "metadata": {},
   "outputs": [
    {
     "name": "stdout",
     "output_type": "stream",
     "text": [
      "Train =  1.1185035194291775e-05\n",
      "Val =  0.14780591553369973\n",
      "Test =  0.15477625108475557\n",
      "Decision Tree Regression Mean square error (MSE) =  0.15477625108475557\n"
     ]
    }
   ],
   "source": [
    "# Decision Tree Regressor\n",
    "from sklearn import tree\n",
    "clf1 = tree.DecisionTreeRegressor()\n",
    "clf1.fit(X_train, y_train)\n",
    "print('Train = ', sk.metrics.mean_squared_error(y_train, clf1.predict(X_train)))\n",
    "\n",
    "clf2 = tree.DecisionTreeRegressor()\n",
    "clf2.fit(X_train, y_train)\n",
    "print ('Val = ', sk.metrics.mean_squared_error(y_val, clf2.predict(X_val)))\n",
    "\n",
    "clf3 = tree.DecisionTreeRegressor()\n",
    "clf3.fit(X_train, y_train)\n",
    "print ('Test = ', sk.metrics.mean_squared_error(y_test, clf3.predict(X_test)))\n",
    "\n",
    "print('Decision Tree Regression Mean square error (MSE) = ', sk.metrics.mean_squared_error(y_test, clf3.predict(X_test)))\n"
   ]
  },
  {
   "cell_type": "code",
   "execution_count": 13,
   "metadata": {},
   "outputs": [
    {
     "name": "stdout",
     "output_type": "stream",
     "text": [
      "Train =  0.012958547866490963\n",
      "Val =  0.08477654826952077\n",
      "Test =  0.0860741117015524\n",
      "Forest Regression w/ 25 trees MSE =  0.0860741117015524\n"
     ]
    }
   ],
   "source": [
    "# Forest Regressor w/ 25 trees\n",
    "from sklearn.ensemble import RandomForestRegressor\n",
    "clf4 = RandomForestRegressor(n_estimators= 25)\n",
    "clf4.fit(X_train,y_train)\n",
    "print('Train = ', sk.metrics.mean_squared_error(y_train, clf4.predict(X_train)))\n",
    "\n",
    "clf5 = RandomForestRegressor(n_estimators= 25)\n",
    "clf5.fit(X_train, y_train)\n",
    "print ('Val = ', sk.metrics.mean_squared_error(y_val, clf5.predict(X_val)))\n",
    "\n",
    "clf6 = RandomForestRegressor(n_estimators= 25)\n",
    "clf6.fit(X_train, y_train)\n",
    "print ('Test = ', sk.metrics.mean_squared_error(y_test, clf6.predict(X_test)))\n",
    "\n",
    "print('Forest Regression w/ 25 trees MSE = ', sk.metrics.mean_squared_error(y_test, clf6.predict(X_test)))\n"
   ]
  },
  {
   "cell_type": "code",
   "execution_count": 41,
   "metadata": {},
   "outputs": [
    {
     "name": "stdout",
     "output_type": "stream",
     "text": [
      "Train =  1.7565076284590353\n",
      "Val =  1.1240085966931206\n",
      "Test =  2.6679520019956744\n",
      "Linear Regression MSE =  2.6679520019956744\n"
     ]
    }
   ],
   "source": [
    "# Linear Regression\n",
    "reg1 = linear_model.LinearRegression()\n",
    "reg1.fit(X_train,y_train)\n",
    "print('Train = ', sk.metrics.mean_squared_error(y_train, reg1.predict(X_train)))\n",
    "\n",
    "reg2 = linear_model.LinearRegression()\n",
    "reg2.fit(X_train,y_train)\n",
    "print('Val = ', sk.metrics.mean_squared_error(y_val, reg2.predict(X_val)))\n",
    "\n",
    "reg3 = linear_model.LinearRegression()\n",
    "reg3.fit(X_train,y_train)\n",
    "print('Test = ', sk.metrics.mean_squared_error(y_test, reg3.predict(X_test)))\n",
    "\n",
    "print('Linear Regression MSE = ', sk.metrics.mean_squared_error(y_test, reg3.predict(X_test)))\n",
    "\n"
   ]
  },
  {
   "cell_type": "code",
   "execution_count": 16,
   "metadata": {},
   "outputs": [],
   "source": [
    "# 1) The Forest regressor with 25 trees is the best model for this data set, however the decision tree regressor has a better fit to the training data.\n",
    "\n",
    "# 2) The cost function for the decisoin tree regressor and the forest regressor is sum of squared error. The cost functin of a linear regression is also sum of squared error.\n",
    "\n",
    "# 3) No hyperparameters were tuned for the decision tree regressor or linear regressor but the number of trees for the random forest regressor was set to be 25. \n",
    "\n",
    "# 4) If you redo the analysis with a different random seed, the results will change slightly"
   ]
  },
  {
   "cell_type": "code",
   "execution_count": 63,
   "metadata": {},
   "outputs": [],
   "source": [
    "# Random Forest\n",
    "train = []\n",
    "val = []\n",
    "line = []\n",
    "trees = [2, 10, 25, 50, 100, 250, 500, 1000]\n",
    "# trees=[1000]\n",
    "\n",
    "for i in np.arange(0,len(trees)):\n",
    "    tree = trees[i]\n",
    "    clf = RandomForestRegressor(n_estimators= tree)\n",
    "    clf.fit(X_train,y_train)\n",
    "    l = clf.predict(X_train)\n",
    "    line.append(l)\n",
    "    t = sk.metrics.mean_squared_error(y_train, l)\n",
    "    train.append(t)\n",
    "    v = sk.metrics.mean_squared_error(y_val, clf.predict(X_val))\n",
    "    val.append(v)\n",
    "\n",
    "\n"
   ]
  },
  {
   "cell_type": "code",
   "execution_count": 18,
   "metadata": {},
   "outputs": [
    {
     "data": {
      "text/plain": [
       "[Text(0.5, 0, 'Trees'), Text(0, 0.5, 'Mean Square Error')]"
      ]
     },
     "execution_count": 18,
     "metadata": {},
     "output_type": "execute_result"
    },
    {
     "data": {
      "image/png": "[encoded data removed]",
      "text/plain": [
       "<Figure size 640x480 with 1 Axes>"
      ]
     },
     "metadata": {},
     "output_type": "display_data"
    }
   ],
   "source": [
    "# Scatter Plot\n",
    "sPlot = sns.scatterplot(x = trees, y = train, color = 'purple', label = 'Training Data')\n",
    "sPlot = sns.scatterplot(x = trees, y = val, color = 'pink', label = 'Validation Data')\n",
    "sPlot.legend()\n",
    "sPlot.set(xlabel='Trees', ylabel = 'Mean Square Error')"
   ]
  },
  {
   "cell_type": "code",
   "execution_count": 72,
   "metadata": {},
   "outputs": [],
   "source": [
    "\n",
    "# 5) There is a large difference between the training and validation data. The training data has a much lower mean square error than the validation data. This is evidence of overfitting."
   ]
  }
 ],
 "metadata": {
  "kernelspec": {
   "display_name": "Python 3",
   "language": "python",
   "name": "python3"
  },
  "language_info": {
   "codemirror_mode": {
    "name": "ipython",
    "version": 3
   },
   "file_extension": ".py",
   "mimetype": "text/x-python",
   "name": "python",
   "nbconvert_exporter": "python",
   "pygments_lexer": "ipython3",
   "version": "3.12.1"
  }
 },
 "nbformat": 4,
 "nbformat_minor": 2
}
